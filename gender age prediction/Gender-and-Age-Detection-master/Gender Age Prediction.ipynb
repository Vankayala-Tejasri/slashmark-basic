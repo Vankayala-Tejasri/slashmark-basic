{
 "cells": [
  {
   "cell_type": "code",
   "execution_count": 1,
   "id": "a363b6d7",
   "metadata": {},
   "outputs": [
    {
     "name": "stdout",
     "output_type": "stream",
     "text": [
      "Requirement already satisfied: opencv-python in c:\\users\\tejasri\\anaconda3\\lib\\site-packages (4.9.0.80)\n",
      "Requirement already satisfied: numpy>=1.21.2 in c:\\users\\tejasri\\anaconda3\\lib\\site-packages (from opencv-python) (1.24.3)\n"
     ]
    }
   ],
   "source": [
    "!pip install opencv-python\n",
    "\n",
    "import cv2\n",
    "import math\n",
    "import argparse"
   ]
  },
  {
   "cell_type": "code",
   "execution_count": 2,
   "id": "bc427436",
   "metadata": {},
   "outputs": [],
   "source": [
    "def highlightFace(net, frame, conf_threshold=0.7):\n",
    "    frameOpencvDnn=frame.copy()\n",
    "    frameHeight=frameOpencvDnn.shape[0]\n",
    "    frameWidth=frameOpencvDnn.shape[1]\n",
    "    blob=cv2.dnn.blobFromImage(frameOpencvDnn, 1.0, (300, 300), [104, 117, 123], True, False)\n",
    "\n",
    "    net.setInput(blob)\n",
    "    detections=net.forward()\n",
    "    faceBoxes=[]\n",
    "    for i in range(detections.shape[2]):\n",
    "        confidence=detections[0,0,i,2]\n",
    "        if confidence>conf_threshold:\n",
    "            x1=int(detections[0,0,i,3]*frameWidth)\n",
    "            y1=int(detections[0,0,i,4]*frameHeight)\n",
    "            x2=int(detections[0,0,i,5]*frameWidth)\n",
    "            y2=int(detections[0,0,i,6]*frameHeight)\n",
    "            faceBoxes.append([x1,y1,x2,y2])\n",
    "            cv2.rectangle(frameOpencvDnn, (x1,y1), (x2,y2), (0,255,0), int(round(frameHeight/150)), 8)\n",
    "    return frameOpencvDnn,faceBoxes\n"
   ]
  },
  {
   "cell_type": "code",
   "execution_count": 3,
   "id": "92c1006c",
   "metadata": {},
   "outputs": [],
   "source": [
    "import sys\n",
    "import argparse\n",
    "sys.argv = ['your_script.py', '--image', 'man1.jpg']\n",
    "parser = argparse.ArgumentParser()\n",
    "parser.add_argument('--image', help='Path to input image')\n",
    "args = parser.parse_args()"
   ]
  },
  {
   "cell_type": "code",
   "execution_count": 4,
   "id": "251106c2",
   "metadata": {},
   "outputs": [],
   "source": [
    "faceProto=\"opencv_face_detector.pbtxt\"\n",
    "faceModel=\"opencv_face_detector_uint8.pb\"\n",
    "ageProto=\"age_deploy.prototxt\"\n",
    "ageModel=\"age_net.caffemodel\"\n",
    "genderProto=\"gender_deploy.prototxt\"\n",
    "genderModel=\"gender_net.caffemodel\""
   ]
  },
  {
   "cell_type": "code",
   "execution_count": 5,
   "id": "695131a6",
   "metadata": {},
   "outputs": [],
   "source": [
    "MODEL_MEAN_VALUES=(78.4263377603, 87.7689143744, 114.895847746)\n",
    "ageList=['(0-2)', '(4-6)', '(8-12)', '(15-20)', '(25-32)', '(38-43)', '(48-53)', '(60-100)']\n",
    "genderList=['Male','Female']\n"
   ]
  },
  {
   "cell_type": "code",
   "execution_count": 6,
   "id": "e5252231",
   "metadata": {},
   "outputs": [],
   "source": [
    "import cv2\n",
    "faceNet=cv2.dnn.readNet(faceModel,faceProto)\n",
    "ageNet=cv2.dnn.readNet(ageModel,ageProto)\n",
    "genderNet=cv2.dnn.readNet(genderModel,genderProto)\n"
   ]
  },
  {
   "cell_type": "code",
   "execution_count": 7,
   "id": "9692db7e",
   "metadata": {},
   "outputs": [
    {
     "name": "stdout",
     "output_type": "stream",
     "text": [
      "Gender: Male\n",
      "Age: 38-43 years\n"
     ]
    }
   ],
   "source": [
    "video = cv2.VideoCapture(args.image if args.image else 0)\n",
    "padding = 20\n",
    "\n",
    "while cv2.waitKey(1) < 0:\n",
    "    hasFrame, frame = video.read()\n",
    "    \n",
    "    if not hasFrame:\n",
    "        cv2.waitKey()\n",
    "        break\n",
    "    \n",
    "    resultImg, faceBoxes = highlightFace(faceNet, frame)\n",
    "    \n",
    "    if not faceBoxes:\n",
    "        print(\"No face detected\")\n",
    "        continue  # Skip to the next iteration if no face is detected\n",
    "    \n",
    "    for faceBox in faceBoxes:\n",
    "        face = frame[max(0, faceBox[1] - padding): min(faceBox[3] + padding, frame.shape[0] - 1),\n",
    "                    max(0, faceBox[0] - padding): min(faceBox[2] + padding, frame.shape[1] - 1)]\n",
    "\n",
    "        blob = cv2.dnn.blobFromImage(face, 1.0, (227, 227), MODEL_MEAN_VALUES, swapRB=False)\n",
    "        genderNet.setInput(blob)\n",
    "        genderPreds = genderNet.forward()\n",
    "        gender = genderList[genderPreds[0].argmax()]\n",
    "        print(f'Gender: {gender}')\n",
    "\n",
    "        ageNet.setInput(blob)\n",
    "        agePreds = ageNet.forward()\n",
    "        age = ageList[agePreds[0].argmax()]\n",
    "        print(f'Age: {age[1:-1]} years')\n",
    "\n",
    "        cv2.putText(frame, f'{gender}, {age}', (faceBox[0], faceBox[1] - 10), cv2.FONT_HERSHEY_SIMPLEX, 0.8, (0, 255, 255), 2, cv2.LINE_AA)\n",
    "\n",
    "    cv2.imshow(\"Detecting age and gender\", frame)\n",
    "    \n",
    "\n",
    "# Release the video capture object\n",
    "video.release()\n",
    "\n",
    "# Close all OpenCV windows\n",
    "cv2.destroyAllWindows()\n"
   ]
  },
  {
   "cell_type": "code",
   "execution_count": 8,
   "id": "f66f2917",
   "metadata": {},
   "outputs": [
    {
     "name": "stdout",
     "output_type": "stream",
     "text": [
      "[[[63 79 95]\n",
      "  [64 80 96]\n",
      "  [65 81 97]\n",
      "  ...\n",
      "  [31 49 50]\n",
      "  [31 49 50]\n",
      "  [31 49 50]]\n",
      "\n",
      " [[63 79 95]\n",
      "  [64 80 96]\n",
      "  [65 81 97]\n",
      "  ...\n",
      "  [29 49 50]\n",
      "  [29 49 50]\n",
      "  [29 49 50]]\n",
      "\n",
      " [[64 80 96]\n",
      "  [65 81 97]\n",
      "  [66 82 98]\n",
      "  ...\n",
      "  [30 50 51]\n",
      "  [30 50 51]\n",
      "  [30 50 51]]\n",
      "\n",
      " ...\n",
      "\n",
      " [[45 57 69]\n",
      "  [45 57 69]\n",
      "  [45 57 69]\n",
      "  ...\n",
      "  [72 77  0]\n",
      "  [62 56  0]\n",
      "  [66 51  2]]\n",
      "\n",
      " [[44 56 68]\n",
      "  [44 56 68]\n",
      "  [44 56 68]\n",
      "  ...\n",
      "  [58 58  0]\n",
      "  [54 46  0]\n",
      "  [61 45  3]]\n",
      "\n",
      " [[44 56 68]\n",
      "  [44 56 68]\n",
      "  [44 56 68]\n",
      "  ...\n",
      "  [47 44  0]\n",
      "  [48 37  0]\n",
      "  [58 40  3]]]\n"
     ]
    }
   ],
   "source": [
    "print(resultImg)"
   ]
  },
  {
   "cell_type": "code",
   "execution_count": null,
   "id": "f3e79f79",
   "metadata": {},
   "outputs": [],
   "source": []
  },
  {
   "cell_type": "code",
   "execution_count": null,
   "id": "c558145b",
   "metadata": {},
   "outputs": [],
   "source": []
  },
  {
   "cell_type": "code",
   "execution_count": null,
   "id": "876df02e",
   "metadata": {},
   "outputs": [],
   "source": []
  }
 ],
 "metadata": {
  "kernelspec": {
   "display_name": "Python 3 (ipykernel)",
   "language": "python",
   "name": "python3"
  },
  "language_info": {
   "codemirror_mode": {
    "name": "ipython",
    "version": 3
   },
   "file_extension": ".py",
   "mimetype": "text/x-python",
   "name": "python",
   "nbconvert_exporter": "python",
   "pygments_lexer": "ipython3",
   "version": "3.11.3"
  }
 },
 "nbformat": 4,
 "nbformat_minor": 5
}
